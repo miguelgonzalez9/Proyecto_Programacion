{
 "cells": [
  {
   "cell_type": "markdown",
   "id": "fd5e2c06",
   "metadata": {},
   "source": [
    "## Tablero Numérico\n",
    "Este archivo crea la clase Base, la cual está compuesta de objetos que representan un tablero de buscaminas. Estos objetos cuentan con un atributo de filas, otro de columnas y un atributo tab. Este último se refiere a matrices compuestas de numeros enteros que toman valores en el rango [-1,8].\n",
    "\n",
    "Cuando una componente de la matriz tiene el numero -1, representa una mina. Cuando toma numeros entre 0 y 8, representa el numero de minas vecinas a dicha casilla. \n",
    "\n",
    "El objeto Base contiene una matriz de las dimensiones especificadas por el usuario con un 10% de sus casillas como minas, ordenadas aleatoriamente. Para añadir el numero de minas vecinas a cada casilla, se debe aplicar el metodo vecinos_mina a un objeto de clase Base. La vecindad se define de forma horizontal, vertical y diagonal.\n",
    "\n",
    "Finalmente, el método array_a_lista, convierte el atributo tab del objeto en una lista para facilitar su manejo.\n"
   ]
  },
  {
   "cell_type": "code",
   "execution_count": 2,
   "id": "db24db75",
   "metadata": {},
   "outputs": [],
   "source": [
    "\n",
    "import numpy as np\n",
    "class Base:\n",
    "\n",
    "    def __init__(self, cols = 10, filas = 10):\n",
    "        \n",
    "        self.cols = cols\n",
    "        self.filas = filas\n",
    "        \n",
    "        # Porcentaje de minas del total de casillas\n",
    "        p1 = 0.1\n",
    "        minas = round((filas*cols)*p1)\n",
    "        no_minas = filas*cols - minas\n",
    "        \n",
    "        # Ordenar minas y no minas en un array\n",
    "        tab = np.array([0]*no_minas + [-1]*minas)\n",
    "        \n",
    "        # Reorganizar valores aleatoriamente en una matriz \n",
    "        # de las dimensiones indicaddas\n",
    "        np.random.shuffle(tab)\n",
    "        tab = np.reshape(tab, (filas, cols))\n",
    "        \n",
    "        # Atributo tab.\n",
    "        self.tab = tab\n",
    "        \n",
    "    def __str__(self):\n",
    "        return (\"{0}\".format(self.tab))\n",
    "    \n",
    "    def vecinos_mina(self):\n",
    "        \n",
    "        filas = self.filas\n",
    "        cols = self.cols\n",
    "        \n",
    "        # Posibilidades de ubicaciones de vecinos: \n",
    "        # izquierda, arriba, abajo, derecha y sus posibles combinaciones.\n",
    "        adjuntos = [(-1, 1), (0, 1), (1, 1), (-1, 0),\n",
    "             (1, 0), (-1, -1), (0,-1), (1,-1)]\n",
    "        \n",
    "        # Matriz para adjuntar conteo de vecinos\n",
    "        arr = np.zeros(shape = (filas, cols))\n",
    "        for i in range(filas):\n",
    "            for j in range(cols):\n",
    "                for (di,dj) in adjuntos:\n",
    "                    \n",
    "                    # Evitar salir de los indices de la matriz\n",
    "                    if 0 <= j + dj < filas and 0 <= i + di < cols:\n",
    "                        # Dado que las minas se cuentan con un -1, \n",
    "                        # y las no-minas con 0, se restan los valores \n",
    "                        # de los vecinos.\n",
    "                        arr[i,j] += -self.tab[i+di, j +dj]\n",
    "                        \n",
    "                # Añadir minas a la nueva matriz\n",
    "                if self.tab[i,j] == -1:\n",
    "                    arr[i,j] = self.tab[i,j]\n",
    "                    \n",
    "        self.tab = arr\n",
    "        \n",
    "    def array_a_lista(self):\n",
    "        l = []\n",
    "        for i in range(self.filas):\n",
    "            for j in range(self.cols):\n",
    "                l.append(self.tab[i][j])\n",
    "        self.tab = l\n",
    "        \n",
    "t = Base()                    \n"
   ]
  },
  {
   "cell_type": "code",
   "execution_count": 3,
   "id": "20ed3e08",
   "metadata": {},
   "outputs": [
    {
     "name": "stdout",
     "output_type": "stream",
     "text": [
      "[[-1 -1  0  0  0  0  0 -1  0  0]\n",
      " [ 0  0  0  0  0  0  0 -1  0  0]\n",
      " [ 0  0  0  0  0  0  0  0  0  0]\n",
      " [ 0  0  0  0  0  0  0  0 -1  0]\n",
      " [ 0  0  0  0  0  0  0  0  0 -1]\n",
      " [ 0  0  0  0  0  0  0  0  0  0]\n",
      " [ 0  0  0  0  0  0  0  0  0  0]\n",
      " [ 0  0  0  0  0  0 -1  0  0  0]\n",
      " [ 0 -1  0  0  0 -1  0  0  0  0]\n",
      " [ 0  0  0  0  0  0 -1  0  0  0]]\n"
     ]
    }
   ],
   "source": [
    "print(t)"
   ]
  },
  {
   "cell_type": "code",
   "execution_count": 4,
   "id": "a3157b49",
   "metadata": {},
   "outputs": [
    {
     "name": "stdout",
     "output_type": "stream",
     "text": [
      "[[-1. -1.  1.  0.  0.  0.  2. -1.  2.  0.]\n",
      " [ 2.  2.  1.  0.  0.  0.  2. -1.  2.  0.]\n",
      " [ 0.  0.  0.  0.  0.  0.  1.  2.  2.  1.]\n",
      " [ 0.  0.  0.  0.  0.  0.  0.  1. -1.  2.]\n",
      " [ 0.  0.  0.  0.  0.  0.  0.  1.  2. -1.]\n",
      " [ 0.  0.  0.  0.  0.  0.  0.  0.  1.  1.]\n",
      " [ 0.  0.  0.  0.  0.  1.  1.  1.  0.  0.]\n",
      " [ 1.  1.  1.  0.  1.  2. -1.  1.  0.  0.]\n",
      " [ 1. -1.  1.  0.  1. -1.  3.  2.  0.  0.]\n",
      " [ 1.  1.  1.  0.  1.  2. -1.  1.  0.  0.]]\n"
     ]
    }
   ],
   "source": [
    "t.vecinos_mina()\n",
    "print(t)"
   ]
  },
  {
   "cell_type": "code",
   "execution_count": 6,
   "id": "5fb6f643",
   "metadata": {},
   "outputs": [
    {
     "data": {
      "text/plain": [
       "'C:\\\\Users\\\\Victoria\\\\Proyecto Programación'"
      ]
     },
     "execution_count": 6,
     "metadata": {},
     "output_type": "execute_result"
    }
   ],
   "source": [
    "import os\n",
    "current_path = os.getcwd()\n",
    "current_path"
   ]
  }
 ],
 "metadata": {
  "kernelspec": {
   "display_name": "Python 3 (ipykernel)",
   "language": "python",
   "name": "python3"
  },
  "language_info": {
   "codemirror_mode": {
    "name": "ipython",
    "version": 3
   },
   "file_extension": ".py",
   "mimetype": "text/x-python",
   "name": "python",
   "nbconvert_exporter": "python",
   "pygments_lexer": "ipython3",
   "version": "3.9.7"
  }
 },
 "nbformat": 4,
 "nbformat_minor": 5
}
